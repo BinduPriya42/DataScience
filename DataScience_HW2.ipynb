{
  "nbformat": 4,
  "nbformat_minor": 0,
  "metadata": {
    "colab": {
      "name": "DataScience_HW2.ipynb",
      "provenance": [],
      "collapsed_sections": [],
      "authorship_tag": "ABX9TyOKJy+tk+/wHb75OidE4LTq",
      "include_colab_link": true
    },
    "kernelspec": {
      "name": "python3",
      "display_name": "Python 3"
    },
    "language_info": {
      "name": "python"
    }
  },
  "cells": [
    {
      "cell_type": "markdown",
      "metadata": {
        "id": "view-in-github",
        "colab_type": "text"
      },
      "source": [
        "<a href=\"https://colab.research.google.com/github/BinduPriya42/DataScience/blob/master/DataScience_HW2.ipynb\" target=\"_parent\"><img src=\"https://colab.research.google.com/assets/colab-badge.svg\" alt=\"Open In Colab\"/></a>"
      ]
    },
    {
      "cell_type": "markdown",
      "metadata": {
        "id": "TOgBzYalZZZC"
      },
      "source": [
        "**1.Write a code to bring data into a Pandas DataFrame called “df”.**"
      ]
    },
    {
      "cell_type": "code",
      "metadata": {
        "colab": {
          "base_uri": "https://localhost:8080/"
        },
        "id": "ahXaGcAxZET9",
        "outputId": "9f5ff2c3-ba66-497d-a3fc-6be6aa381ec4"
      },
      "source": [
        "import pandas as pd\n",
        "df=pd.read_csv(\"earthquakes.csv\")\n",
        "print (df)"
      ],
      "execution_count": 1,
      "outputs": [
        {
          "output_type": "stream",
          "name": "stdout",
          "text": [
            "     alert  cdi  ...                                                url parsed_place\n",
            "0      NaN  NaN  ...  https://earthquake.usgs.gov/earthquakes/eventp...   California\n",
            "1      NaN  NaN  ...  https://earthquake.usgs.gov/earthquakes/eventp...   California\n",
            "2      NaN  4.4  ...  https://earthquake.usgs.gov/earthquakes/eventp...   California\n",
            "3      NaN  NaN  ...  https://earthquake.usgs.gov/earthquakes/eventp...   California\n",
            "4      NaN  NaN  ...  https://earthquake.usgs.gov/earthquakes/eventp...   California\n",
            "...    ...  ...  ...                                                ...          ...\n",
            "9327   NaN  NaN  ...  https://earthquake.usgs.gov/earthquakes/eventp...   California\n",
            "9328   NaN  NaN  ...  https://earthquake.usgs.gov/earthquakes/eventp...   California\n",
            "9329   NaN  NaN  ...  https://earthquake.usgs.gov/earthquakes/eventp...  Puerto Rico\n",
            "9330   NaN  NaN  ...  https://earthquake.usgs.gov/earthquakes/eventp...   California\n",
            "9331   NaN  NaN  ...  https://earthquake.usgs.gov/earthquakes/eventp...   California\n",
            "\n",
            "[9332 rows x 27 columns]\n"
          ]
        }
      ]
    },
    {
      "cell_type": "markdown",
      "metadata": {
        "id": "SaZrY6zUZru9"
      },
      "source": [
        "**2.Write a code to inspect your data using DataFrame ‘df’ attributes ‘shape’, ‘columns’, and display the first five rows using method ‘head()’**"
      ]
    },
    {
      "cell_type": "code",
      "metadata": {
        "colab": {
          "base_uri": "https://localhost:8080/"
        },
        "id": "F-x4Zj7vZw4Z",
        "outputId": "c8d0da78-74c7-4ecb-8a09-9f991b38dfba"
      },
      "source": [
        "import pandas as pd\n",
        "\n",
        "#reading the data set\n",
        "df =pd.read_csv(\"earthquakes.csv\")\n",
        "\n",
        "#print columns\n",
        "print(\"Column : \")\n",
        "print(df.tail())\n",
        "print(\"\\n\")\n",
        "shape = df.shape\n",
        "\n",
        "\n",
        "# shape\n",
        "print(\"Shape ={}\\nShape[0] x Shape[1] = {}\".\n",
        "format(shape, shape[0]*shape[1]))\n",
        "\n",
        "print(\"\\n\")\n",
        "\n",
        "\n",
        "#display first five rows \n",
        "print(\"first five rows :\")\n",
        "print(df.head(5))\n"
      ],
      "execution_count": 2,
      "outputs": [
        {
          "output_type": "stream",
          "name": "stdout",
          "text": [
            "Column : \n",
            "     alert  cdi  ...                                                url parsed_place\n",
            "9327   NaN  NaN  ...  https://earthquake.usgs.gov/earthquakes/eventp...   California\n",
            "9328   NaN  NaN  ...  https://earthquake.usgs.gov/earthquakes/eventp...   California\n",
            "9329   NaN  NaN  ...  https://earthquake.usgs.gov/earthquakes/eventp...  Puerto Rico\n",
            "9330   NaN  NaN  ...  https://earthquake.usgs.gov/earthquakes/eventp...   California\n",
            "9331   NaN  NaN  ...  https://earthquake.usgs.gov/earthquakes/eventp...   California\n",
            "\n",
            "[5 rows x 27 columns]\n",
            "\n",
            "\n",
            "Shape =(9332, 27)\n",
            "Shape[0] x Shape[1] = 251964\n",
            "\n",
            "\n",
            "first five rows :\n",
            "  alert  cdi  ...                                                url parsed_place\n",
            "0   NaN  NaN  ...  https://earthquake.usgs.gov/earthquakes/eventp...   California\n",
            "1   NaN  NaN  ...  https://earthquake.usgs.gov/earthquakes/eventp...   California\n",
            "2   NaN  4.4  ...  https://earthquake.usgs.gov/earthquakes/eventp...   California\n",
            "3   NaN  NaN  ...  https://earthquake.usgs.gov/earthquakes/eventp...   California\n",
            "4   NaN  NaN  ...  https://earthquake.usgs.gov/earthquakes/eventp...   California\n",
            "\n",
            "[5 rows x 27 columns]\n"
          ]
        }
      ]
    },
    {
      "cell_type": "markdown",
      "metadata": {
        "id": "cgeW2h1ZZ3mT"
      },
      "source": [
        "**3.Write a statement to print unique values (hint: use unique() method) available in the ‘alert’ column and display them as a list. Write a comment with other alert values available consulting the USGS API documentation for the alert field.**"
      ]
    },
    {
      "cell_type": "code",
      "metadata": {
        "colab": {
          "base_uri": "https://localhost:8080/"
        },
        "id": "Fy_NRAmFZ-V_",
        "outputId": "208a8ee9-60f1-46b9-9cc5-2cf0dd768ce2"
      },
      "source": [
        "import pandas as pd\n",
        "\n",
        "#reading the data set\n",
        "df =pd.read_csv(\"earthquakes.csv\")\n",
        "\n",
        "#first get info using info()\n",
        "print(\"'check data frame info' \\n\")\n",
        "print(df.info())\n",
        "\n",
        "print(\"\\n\")\n",
        "print(\"\\n\")\n",
        "\n",
        "# To print unique values available in the ‘alert’ column and display them as a list\n",
        "print(\"unique values in the alert : \\n \")\n",
        "print(df['alert'].unique().tolist())"
      ],
      "execution_count": 3,
      "outputs": [
        {
          "output_type": "stream",
          "name": "stdout",
          "text": [
            "'check data frame info' \n",
            "\n",
            "<class 'pandas.core.frame.DataFrame'>\n",
            "RangeIndex: 9332 entries, 0 to 9331\n",
            "Data columns (total 27 columns):\n",
            " #   Column        Non-Null Count  Dtype  \n",
            "---  ------        --------------  -----  \n",
            " 0   alert         59 non-null     object \n",
            " 1   cdi           329 non-null    float64\n",
            " 2   code          9332 non-null   object \n",
            " 3   detail        9332 non-null   object \n",
            " 4   dmin          6139 non-null   float64\n",
            " 5   felt          329 non-null    float64\n",
            " 6   gap           6164 non-null   float64\n",
            " 7   ids           9332 non-null   object \n",
            " 8   mag           9331 non-null   float64\n",
            " 9   magType       9331 non-null   object \n",
            " 10  mmi           93 non-null     float64\n",
            " 11  net           9332 non-null   object \n",
            " 12  nst           5364 non-null   float64\n",
            " 13  place         9332 non-null   object \n",
            " 14  rms           9332 non-null   float64\n",
            " 15  sig           9332 non-null   int64  \n",
            " 16  sources       9332 non-null   object \n",
            " 17  status        9332 non-null   object \n",
            " 18  time          9332 non-null   int64  \n",
            " 19  title         9332 non-null   object \n",
            " 20  tsunami       9332 non-null   int64  \n",
            " 21  type          9332 non-null   object \n",
            " 22  types         9332 non-null   object \n",
            " 23  tz            9331 non-null   float64\n",
            " 24  updated       9332 non-null   int64  \n",
            " 25  url           9332 non-null   object \n",
            " 26  parsed_place  9332 non-null   object \n",
            "dtypes: float64(9), int64(4), object(14)\n",
            "memory usage: 1.9+ MB\n",
            "None\n",
            "\n",
            "\n",
            "\n",
            "\n",
            "unique values in the alert : \n",
            " \n",
            "[nan, 'green', 'red']\n"
          ]
        }
      ]
    },
    {
      "cell_type": "markdown",
      "metadata": {
        "id": "_1KQNqHcgTCu"
      },
      "source": [
        "**4. Write a statement to print the columns “title” and “time” of ‘df’ in row index 100 through 105.**"
      ]
    },
    {
      "cell_type": "code",
      "metadata": {
        "colab": {
          "base_uri": "https://localhost:8080/"
        },
        "id": "4C3HiLRogTYY",
        "outputId": "0b7bd854-10fe-493f-af46-44d16f704afc"
      },
      "source": [
        "import pandas as pd\n",
        "\n",
        "df=pd.read_csv('earthquakes.csv')\n",
        "\n",
        "tt=df[ ['time','title']]\n",
        "print(tt.iloc[100:106])\n"
      ],
      "execution_count": 3,
      "outputs": [
        {
          "output_type": "stream",
          "name": "stdout",
          "text": [
            "              time                                  title\n",
            "100  1539435449480       M 1.2 - 25km NW of Ester, Alaska\n",
            "101  1539435391320   M 0.6 - 8km ESE of Mammoth Lakes, CA\n",
            "102  1539435293090         M 1.3 - 8km ENE of Aguanga, CA\n",
            "103  1539434854250            M 0.0 - 5km WSW of Anza, CA\n",
            "104  1539434531500   M 1.6 - 10km S of Progreso, B.C., MX\n",
            "105  1539434338510  M 0.6 - 12km N of Borrego Springs, CA\n"
          ]
        }
      ]
    },
    {
      "cell_type": "markdown",
      "metadata": {
        "id": "DYS3uUiBodnr"
      },
      "source": [
        "**5. Using python list comprehension, and the given ‘df.columns’, select all of the columns that start with ‘mag’, along with the ‘title’ , ‘parsed_place’ and ‘time’ columns. Hint: Use python string method “startswith()” to find all the columns that start with the term ‘mag’.**"
      ]
    },
    {
      "cell_type": "code",
      "metadata": {
        "colab": {
          "base_uri": "https://localhost:8080/"
        },
        "id": "LTERCstB7lGt",
        "outputId": "d64567bb-5c36-4a0d-dd2a-0171b24a980b"
      },
      "source": [
        "import pandas as pd\n",
        "# Load some data\n",
        "df = pd.read_csv(\"earthquakes.csv\")\n",
        "#c = df.loc[:,df.columns.str.startswith('mag')]\n",
        "\n",
        "c = [col for col in df if col.startswith('mag')]\n",
        "#df.columns.str.startswith('mag')\n",
        "cols = (c + ['title', 'parsed_place', 'time'])\n",
        "\n",
        "txt = df[cols]\n",
        "print (txt)"
      ],
      "execution_count": 14,
      "outputs": [
        {
          "output_type": "stream",
          "name": "stdout",
          "text": [
            "       mag magType  ... parsed_place           time\n",
            "0     1.35      ml  ...   California  1539475168010\n",
            "1     1.29      ml  ...   California  1539475129610\n",
            "2     3.42      ml  ...   California  1539475062610\n",
            "3     0.44      ml  ...   California  1539474978070\n",
            "4     2.16      md  ...   California  1539474716050\n",
            "...    ...     ...  ...          ...            ...\n",
            "9327  0.62      md  ...   California  1537230228060\n",
            "9328  1.00      ml  ...   California  1537230135130\n",
            "9329  2.40      md  ...  Puerto Rico  1537229908180\n",
            "9330  1.10      ml  ...   California  1537229545350\n",
            "9331  0.66      ml  ...   California  1537228864470\n",
            "\n",
            "[9332 rows x 5 columns]\n"
          ]
        }
      ]
    },
    {
      "cell_type": "markdown",
      "metadata": {
        "id": "-nnUknkJ4PPR"
      },
      "source": [
        "**6.Using the selection in exercise (5) above, find all the earthquakes with the magnitude greater than or equal to 6.0 and display only the ‘parsed_place’ and the ‘mag’ columns.**"
      ]
    },
    {
      "cell_type": "code",
      "metadata": {
        "colab": {
          "base_uri": "https://localhost:8080/"
        },
        "id": "4RzuGCNC5AJQ",
        "outputId": "d830ed96-bb2e-4536-fe8a-a7b8a568088d"
      },
      "source": [
        "mag1 = txt[txt.mag>= 6.0]\n",
        "mag2= mag1[['parsed_place', 'mag']]\n",
        "print(mag2)"
      ],
      "execution_count": 18,
      "outputs": [
        {
          "output_type": "stream",
          "name": "stdout",
          "text": [
            "                parsed_place  mag\n",
            "118                   Russia  6.7\n",
            "799                   Russia  6.5\n",
            "816         Papua New Guinea  6.2\n",
            "837         Papua New Guinea  7.0\n",
            "838         Papua New Guinea  6.1\n",
            "862                Indonesia  6.0\n",
            "1267                  Russia  6.0\n",
            "3699               Indonesia  6.0\n",
            "4363                    Fiji  6.7\n",
            "5263               Indonesia  7.5\n",
            "5323               Indonesia  6.1\n",
            "9211  Southwest Indian Ridge  6.0\n"
          ]
        }
      ]
    },
    {
      "cell_type": "markdown",
      "metadata": {
        "id": "6DfR4FmG-KsB"
      },
      "source": [
        "**7.Using the original DataFrame ‘df ‘, find the earthquakes with a red alert (df.alert == ‘red’) and a tsunami (df.tsunami ==1) and display only the ‘parsed_place’ and the ‘mag’ columns.**"
      ]
    },
    {
      "cell_type": "code",
      "metadata": {
        "colab": {
          "base_uri": "https://localhost:8080/"
        },
        "id": "GVOQOt2G-lgX",
        "outputId": "cdd5525c-0e25-4f97-86eb-afb788912bd1"
      },
      "source": [
        "col = df[(df.alert == 'red')& (df.tsunami == 1)]\n",
        "col1 =col[['parsed_place','mag']]\n",
        "print(col1)\n"
      ],
      "execution_count": 19,
      "outputs": [
        {
          "output_type": "stream",
          "name": "stdout",
          "text": [
            "     parsed_place  mag\n",
            "5263    Indonesia  7.5\n"
          ]
        }
      ]
    },
    {
      "cell_type": "markdown",
      "metadata": {
        "id": "NfyVg1J2Bv5A"
      },
      "source": [
        "**8.Find the 90th percentile (hint: use ‘quantile()’ method) of earthquake magnitude in Japan using the magType of 'mb'.**"
      ]
    },
    {
      "cell_type": "code",
      "metadata": {
        "colab": {
          "base_uri": "https://localhost:8080/"
        },
        "id": "crDjZGtVBup9",
        "outputId": "445edac3-be27-49c7-d9cd-892323ef9a5c"
      },
      "source": [
        "type1 =df[df['magType'] == 'mb']\n",
        "type2=type1.loc[type1['place'].str.contains(\"Japan\")]\n",
        "per=type2.quantile(0.9)\n",
        "print(per)"
      ],
      "execution_count": 22,
      "outputs": [
        {
          "output_type": "stream",
          "name": "stdout",
          "text": [
            "cdi        3.800000e+00\n",
            "dmin       2.398500e+00\n",
            "felt       1.900000e+01\n",
            "gap        1.473000e+02\n",
            "mag        4.800000e+00\n",
            "mmi                 NaN\n",
            "nst                 NaN\n",
            "rms        1.105000e+00\n",
            "sig        3.575000e+02\n",
            "time       1.539029e+12\n",
            "tsunami    0.000000e+00\n",
            "tz         6.000000e+02\n",
            "updated    1.539324e+12\n",
            "Name: 0.9, dtype: float64\n"
          ]
        }
      ]
    },
    {
      "cell_type": "markdown",
      "metadata": {
        "id": "NZ6E5V8SB26G"
      },
      "source": [
        "9.Get summary statistics (hint: use ‘describe()’ method) for earthquakes in California."
      ]
    },
    {
      "cell_type": "code",
      "metadata": {
        "colab": {
          "base_uri": "https://localhost:8080/",
          "height": 317
        },
        "id": "f2v9QBA_CAhL",
        "outputId": "f076be74-8616-4e6b-af63-7f57256e3ca6"
      },
      "source": [
        "summary =df [df.parsed_place == 'California']\n",
        "summary.describe()"
      ],
      "execution_count": 24,
      "outputs": [
        {
          "output_type": "execute_result",
          "data": {
            "text/html": [
              "<div>\n",
              "<style scoped>\n",
              "    .dataframe tbody tr th:only-of-type {\n",
              "        vertical-align: middle;\n",
              "    }\n",
              "\n",
              "    .dataframe tbody tr th {\n",
              "        vertical-align: top;\n",
              "    }\n",
              "\n",
              "    .dataframe thead th {\n",
              "        text-align: right;\n",
              "    }\n",
              "</style>\n",
              "<table border=\"1\" class=\"dataframe\">\n",
              "  <thead>\n",
              "    <tr style=\"text-align: right;\">\n",
              "      <th></th>\n",
              "      <th>cdi</th>\n",
              "      <th>dmin</th>\n",
              "      <th>felt</th>\n",
              "      <th>gap</th>\n",
              "      <th>mag</th>\n",
              "      <th>mmi</th>\n",
              "      <th>nst</th>\n",
              "      <th>rms</th>\n",
              "      <th>sig</th>\n",
              "      <th>time</th>\n",
              "      <th>tsunami</th>\n",
              "      <th>tz</th>\n",
              "      <th>updated</th>\n",
              "    </tr>\n",
              "  </thead>\n",
              "  <tbody>\n",
              "    <tr>\n",
              "      <th>count</th>\n",
              "      <td>110.000000</td>\n",
              "      <td>2861.000000</td>\n",
              "      <td>110.000000</td>\n",
              "      <td>2861.000000</td>\n",
              "      <td>2860.000000</td>\n",
              "      <td>9.000000</td>\n",
              "      <td>2861.000000</td>\n",
              "      <td>2861.000000</td>\n",
              "      <td>2861.000000</td>\n",
              "      <td>2.861000e+03</td>\n",
              "      <td>2861.000000</td>\n",
              "      <td>2860.0</td>\n",
              "      <td>2.861000e+03</td>\n",
              "    </tr>\n",
              "    <tr>\n",
              "      <th>mean</th>\n",
              "      <td>2.537273</td>\n",
              "      <td>0.048929</td>\n",
              "      <td>19.172727</td>\n",
              "      <td>93.193855</td>\n",
              "      <td>0.910266</td>\n",
              "      <td>3.472222</td>\n",
              "      <td>24.548410</td>\n",
              "      <td>0.113745</td>\n",
              "      <td>17.978329</td>\n",
              "      <td>1.538306e+12</td>\n",
              "      <td>0.000350</td>\n",
              "      <td>-480.0</td>\n",
              "      <td>1.538367e+12</td>\n",
              "    </tr>\n",
              "    <tr>\n",
              "      <th>std</th>\n",
              "      <td>0.761560</td>\n",
              "      <td>0.066996</td>\n",
              "      <td>76.864095</td>\n",
              "      <td>56.226503</td>\n",
              "      <td>0.569423</td>\n",
              "      <td>1.267693</td>\n",
              "      <td>16.698023</td>\n",
              "      <td>0.066982</td>\n",
              "      <td>25.368064</td>\n",
              "      <td>6.154326e+08</td>\n",
              "      <td>0.018696</td>\n",
              "      <td>0.0</td>\n",
              "      <td>6.139001e+08</td>\n",
              "    </tr>\n",
              "    <tr>\n",
              "      <th>min</th>\n",
              "      <td>0.000000</td>\n",
              "      <td>0.000648</td>\n",
              "      <td>0.000000</td>\n",
              "      <td>12.000000</td>\n",
              "      <td>-0.500000</td>\n",
              "      <td>1.000000</td>\n",
              "      <td>0.000000</td>\n",
              "      <td>0.000000</td>\n",
              "      <td>0.000000</td>\n",
              "      <td>1.537229e+12</td>\n",
              "      <td>0.000000</td>\n",
              "      <td>-480.0</td>\n",
              "      <td>1.537230e+12</td>\n",
              "    </tr>\n",
              "    <tr>\n",
              "      <th>25%</th>\n",
              "      <td>2.000000</td>\n",
              "      <td>0.010460</td>\n",
              "      <td>1.000000</td>\n",
              "      <td>54.000000</td>\n",
              "      <td>0.520000</td>\n",
              "      <td>3.050000</td>\n",
              "      <td>13.000000</td>\n",
              "      <td>0.050000</td>\n",
              "      <td>4.000000</td>\n",
              "      <td>1.537817e+12</td>\n",
              "      <td>0.000000</td>\n",
              "      <td>-480.0</td>\n",
              "      <td>1.537893e+12</td>\n",
              "    </tr>\n",
              "    <tr>\n",
              "      <th>50%</th>\n",
              "      <td>2.200000</td>\n",
              "      <td>0.026580</td>\n",
              "      <td>1.000000</td>\n",
              "      <td>78.000000</td>\n",
              "      <td>0.830000</td>\n",
              "      <td>4.170000</td>\n",
              "      <td>20.000000</td>\n",
              "      <td>0.110000</td>\n",
              "      <td>11.000000</td>\n",
              "      <td>1.538264e+12</td>\n",
              "      <td>0.000000</td>\n",
              "      <td>-480.0</td>\n",
              "      <td>1.538407e+12</td>\n",
              "    </tr>\n",
              "    <tr>\n",
              "      <th>75%</th>\n",
              "      <td>3.100000</td>\n",
              "      <td>0.066810</td>\n",
              "      <td>3.750000</td>\n",
              "      <td>116.000000</td>\n",
              "      <td>1.210000</td>\n",
              "      <td>4.410000</td>\n",
              "      <td>31.000000</td>\n",
              "      <td>0.166000</td>\n",
              "      <td>23.000000</td>\n",
              "      <td>1.538781e+12</td>\n",
              "      <td>0.000000</td>\n",
              "      <td>-480.0</td>\n",
              "      <td>1.538825e+12</td>\n",
              "    </tr>\n",
              "    <tr>\n",
              "      <th>max</th>\n",
              "      <td>4.500000</td>\n",
              "      <td>0.992900</td>\n",
              "      <td>580.000000</td>\n",
              "      <td>347.000000</td>\n",
              "      <td>3.830000</td>\n",
              "      <td>4.570000</td>\n",
              "      <td>172.000000</td>\n",
              "      <td>0.350000</td>\n",
              "      <td>446.000000</td>\n",
              "      <td>1.539475e+12</td>\n",
              "      <td>1.000000</td>\n",
              "      <td>-480.0</td>\n",
              "      <td>1.539537e+12</td>\n",
              "    </tr>\n",
              "  </tbody>\n",
              "</table>\n",
              "</div>"
            ],
            "text/plain": [
              "              cdi         dmin        felt  ...      tsunami      tz       updated\n",
              "count  110.000000  2861.000000  110.000000  ...  2861.000000  2860.0  2.861000e+03\n",
              "mean     2.537273     0.048929   19.172727  ...     0.000350  -480.0  1.538367e+12\n",
              "std      0.761560     0.066996   76.864095  ...     0.018696     0.0  6.139001e+08\n",
              "min      0.000000     0.000648    0.000000  ...     0.000000  -480.0  1.537230e+12\n",
              "25%      2.000000     0.010460    1.000000  ...     0.000000  -480.0  1.537893e+12\n",
              "50%      2.200000     0.026580    1.000000  ...     0.000000  -480.0  1.538407e+12\n",
              "75%      3.100000     0.066810    3.750000  ...     0.000000  -480.0  1.538825e+12\n",
              "max      4.500000     0.992900  580.000000  ...     1.000000  -480.0  1.539537e+12\n",
              "\n",
              "[8 rows x 13 columns]"
            ]
          },
          "metadata": {},
          "execution_count": 24
        }
      ]
    },
    {
      "cell_type": "markdown",
      "metadata": {
        "id": "q2E2nt3KCBUK"
      },
      "source": [
        "**10.(Optional: complete this to receive bonus 10pts) Add a column called ‘ring_of_fire’ to the ‘df’ indicating whether or not the earthquake happened in a country or US state that is on the Ring of Fire. Use Bolivia, Chile, Ecuador, Peru, Costa Rica, Guatemala, Mexico (be careful not to select New Mexico), Japan, Philippines, Indonesia, New Zealand, Antarctic, Canada, Fiji, Alaska, Washington, California, Russia, Taiwan, Tonga, and Kermadec Islands**"
      ]
    },
    {
      "cell_type": "code",
      "metadata": {
        "id": "kTEs9DJ_CLQr"
      },
      "source": [
        ""
      ],
      "execution_count": null,
      "outputs": []
    }
  ]
}